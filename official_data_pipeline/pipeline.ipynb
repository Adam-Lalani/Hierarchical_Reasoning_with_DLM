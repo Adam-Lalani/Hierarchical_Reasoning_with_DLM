{
 "cells": [
  {
   "cell_type": "markdown",
   "metadata": {},
   "source": [
    "# Note: combined_df_v2.csv is our initial dataset containing high-level planning and low-level reasoning steps"
   ]
  },
  {
   "cell_type": "code",
   "execution_count": 14,
   "metadata": {},
   "outputs": [
    {
     "data": {
      "text/html": [
       "<div>\n",
       "<style scoped>\n",
       "    .dataframe tbody tr th:only-of-type {\n",
       "        vertical-align: middle;\n",
       "    }\n",
       "\n",
       "    .dataframe tbody tr th {\n",
       "        vertical-align: top;\n",
       "    }\n",
       "\n",
       "    .dataframe thead th {\n",
       "        text-align: right;\n",
       "    }\n",
       "</style>\n",
       "<table border=\"1\" class=\"dataframe\">\n",
       "  <thead>\n",
       "    <tr style=\"text-align: right;\">\n",
       "      <th></th>\n",
       "      <th>custom_id</th>\n",
       "      <th>question</th>\n",
       "      <th>answer</th>\n",
       "      <th>LLR</th>\n",
       "      <th>HLR</th>\n",
       "    </tr>\n",
       "  </thead>\n",
       "  <tbody>\n",
       "    <tr>\n",
       "      <th>0</th>\n",
       "      <td>req_330000</td>\n",
       "      <td>Will's breakfast supplied him 900 calories of ...</td>\n",
       "      <td>Step 1: Calculate the duration of jogging in m...</td>\n",
       "      <td>[('Step 1: Calculate the duration of jogging i...</td>\n",
       "      <td>['Step 1: Calculate the duration of jogging in...</td>\n",
       "    </tr>\n",
       "    <tr>\n",
       "      <th>1</th>\n",
       "      <td>req_330001</td>\n",
       "      <td>What is the smallest prime factor of 1821?</td>\n",
       "      <td>Step 1: Identify the properties of the number ...</td>\n",
       "      <td>[('Step 1: Identify the properties of the numb...</td>\n",
       "      <td>['Step 1: Identify the properties of the numbe...</td>\n",
       "    </tr>\n",
       "    <tr>\n",
       "      <th>2</th>\n",
       "      <td>req_330002</td>\n",
       "      <td>Billy weighs 9 pounds more than Brad. Brad wei...</td>\n",
       "      <td>Step 1: Determine Brad's weight based on Carl'...</td>\n",
       "      <td>[(\"Step 1: Determine Brad's weight based on Ca...</td>\n",
       "      <td>[\"Step 1: Determine Brad's weight based on Car...</td>\n",
       "    </tr>\n",
       "    <tr>\n",
       "      <th>3</th>\n",
       "      <td>req_330003</td>\n",
       "      <td>Simon and Peter have a big stamp collection. S...</td>\n",
       "      <td>Step 1: Calculate the total amount of money Si...</td>\n",
       "      <td>[('Step 1: Calculate the total amount of money...</td>\n",
       "      <td>['Step 1: Calculate the total amount of money ...</td>\n",
       "    </tr>\n",
       "    <tr>\n",
       "      <th>4</th>\n",
       "      <td>req_330004</td>\n",
       "      <td>A small zoo houses a variety of 68 wild animal...</td>\n",
       "      <td>Step 1: Determine the initial number of animal...</td>\n",
       "      <td>[('Step 1: Determine the initial number of ani...</td>\n",
       "      <td>['Step 1: Determine the initial number of anim...</td>\n",
       "    </tr>\n",
       "  </tbody>\n",
       "</table>\n",
       "</div>"
      ],
      "text/plain": [
       "    custom_id                                           question  \\\n",
       "0  req_330000  Will's breakfast supplied him 900 calories of ...   \n",
       "1  req_330001         What is the smallest prime factor of 1821?   \n",
       "2  req_330002  Billy weighs 9 pounds more than Brad. Brad wei...   \n",
       "3  req_330003  Simon and Peter have a big stamp collection. S...   \n",
       "4  req_330004  A small zoo houses a variety of 68 wild animal...   \n",
       "\n",
       "                                              answer  \\\n",
       "0  Step 1: Calculate the duration of jogging in m...   \n",
       "1  Step 1: Identify the properties of the number ...   \n",
       "2  Step 1: Determine Brad's weight based on Carl'...   \n",
       "3  Step 1: Calculate the total amount of money Si...   \n",
       "4  Step 1: Determine the initial number of animal...   \n",
       "\n",
       "                                                 LLR  \\\n",
       "0  [('Step 1: Calculate the duration of jogging i...   \n",
       "1  [('Step 1: Identify the properties of the numb...   \n",
       "2  [(\"Step 1: Determine Brad's weight based on Ca...   \n",
       "3  [('Step 1: Calculate the total amount of money...   \n",
       "4  [('Step 1: Determine the initial number of ani...   \n",
       "\n",
       "                                                 HLR  \n",
       "0  ['Step 1: Calculate the duration of jogging in...  \n",
       "1  ['Step 1: Identify the properties of the numbe...  \n",
       "2  [\"Step 1: Determine Brad's weight based on Car...  \n",
       "3  ['Step 1: Calculate the total amount of money ...  \n",
       "4  ['Step 1: Determine the initial number of anim...  "
      ]
     },
     "execution_count": 14,
     "metadata": {},
     "output_type": "execute_result"
    }
   ],
   "source": [
    "import pandas as pd\n",
    "import numpy as np\n",
    "import matplotlib.pyplot as plt\n",
    "import os\n",
    "\n",
    "path = \"combined_df_v2.csv\"\n",
    "\n",
    "df = pd.read_csv(path)\n",
    "\n",
    "df.head()\n",
    "\n",
    "\n",
    "\n"
   ]
  },
  {
   "cell_type": "code",
   "execution_count": 15,
   "metadata": {},
   "outputs": [
    {
     "data": {
      "text/plain": [
       "'[(\\'Step 1: Calculate the duration of jogging in minutes\\', \\'Since there are 60 minutes in an hour, half an hour is calculated as 60/2, which equals 30 minutes.\\'), (\\'Step 2: Determine the total calories burned during jogging\\', \\'Will burns 10 calories per minute, so for 30 minutes, the total calories burned is calculated as 10 * 30, which equals 300 calories.\\'), (\"Step 3: Calculate Will\\'s net calorie intake after jogging\", \\'To find the net calorie intake, subtract the calories burned from the initial calorie intake: 900 (initial calories) - 300 (calories burned) = 600 calories.\\'), (\\'Conclusion:\\', \\'The answer is 600.\\')]'"
      ]
     },
     "execution_count": 15,
     "metadata": {},
     "output_type": "execute_result"
    }
   ],
   "source": [
    "df.iloc[0, 3]"
   ]
  },
  {
   "cell_type": "code",
   "execution_count": 16,
   "metadata": {},
   "outputs": [
    {
     "name": "stdout",
     "output_type": "stream",
     "text": [
      "/Users/nickklatsky/codingProjects/topicsFinal/Hierarchical_Reasoning_with_DLM/official_data_pipeline\n"
     ]
    }
   ],
   "source": [
    "import os\n",
    "print(os.getcwd())"
   ]
  },
  {
   "cell_type": "code",
   "execution_count": 17,
   "metadata": {},
   "outputs": [
    {
     "data": {
      "text/html": [
       "<div>\n",
       "<style scoped>\n",
       "    .dataframe tbody tr th:only-of-type {\n",
       "        vertical-align: middle;\n",
       "    }\n",
       "\n",
       "    .dataframe tbody tr th {\n",
       "        vertical-align: top;\n",
       "    }\n",
       "\n",
       "    .dataframe thead th {\n",
       "        text-align: right;\n",
       "    }\n",
       "</style>\n",
       "<table border=\"1\" class=\"dataframe\">\n",
       "  <thead>\n",
       "    <tr style=\"text-align: right;\">\n",
       "      <th></th>\n",
       "      <th>custom_id</th>\n",
       "      <th>question</th>\n",
       "      <th>answer</th>\n",
       "      <th>LLR</th>\n",
       "      <th>HLP</th>\n",
       "    </tr>\n",
       "  </thead>\n",
       "  <tbody>\n",
       "    <tr>\n",
       "      <th>0</th>\n",
       "      <td>req_330000</td>\n",
       "      <td>Will's breakfast supplied him 900 calories of ...</td>\n",
       "      <td>Step 1: Calculate the duration of jogging in m...</td>\n",
       "      <td>[('Step 1: Calculate the duration of jogging i...</td>\n",
       "      <td>['Step 1: Calculate the duration of jogging in...</td>\n",
       "    </tr>\n",
       "    <tr>\n",
       "      <th>1</th>\n",
       "      <td>req_330001</td>\n",
       "      <td>What is the smallest prime factor of 1821?</td>\n",
       "      <td>Step 1: Identify the properties of the number ...</td>\n",
       "      <td>[('Step 1: Identify the properties of the numb...</td>\n",
       "      <td>['Step 1: Identify the properties of the numbe...</td>\n",
       "    </tr>\n",
       "    <tr>\n",
       "      <th>2</th>\n",
       "      <td>req_330002</td>\n",
       "      <td>Billy weighs 9 pounds more than Brad. Brad wei...</td>\n",
       "      <td>Step 1: Determine Brad's weight based on Carl'...</td>\n",
       "      <td>[(\"Step 1: Determine Brad's weight based on Ca...</td>\n",
       "      <td>[\"Step 1: Determine Brad's weight based on Car...</td>\n",
       "    </tr>\n",
       "    <tr>\n",
       "      <th>3</th>\n",
       "      <td>req_330003</td>\n",
       "      <td>Simon and Peter have a big stamp collection. S...</td>\n",
       "      <td>Step 1: Calculate the total amount of money Si...</td>\n",
       "      <td>[('Step 1: Calculate the total amount of money...</td>\n",
       "      <td>['Step 1: Calculate the total amount of money ...</td>\n",
       "    </tr>\n",
       "    <tr>\n",
       "      <th>4</th>\n",
       "      <td>req_330004</td>\n",
       "      <td>A small zoo houses a variety of 68 wild animal...</td>\n",
       "      <td>Step 1: Determine the initial number of animal...</td>\n",
       "      <td>[('Step 1: Determine the initial number of ani...</td>\n",
       "      <td>['Step 1: Determine the initial number of anim...</td>\n",
       "    </tr>\n",
       "  </tbody>\n",
       "</table>\n",
       "</div>"
      ],
      "text/plain": [
       "    custom_id                                           question  \\\n",
       "0  req_330000  Will's breakfast supplied him 900 calories of ...   \n",
       "1  req_330001         What is the smallest prime factor of 1821?   \n",
       "2  req_330002  Billy weighs 9 pounds more than Brad. Brad wei...   \n",
       "3  req_330003  Simon and Peter have a big stamp collection. S...   \n",
       "4  req_330004  A small zoo houses a variety of 68 wild animal...   \n",
       "\n",
       "                                              answer  \\\n",
       "0  Step 1: Calculate the duration of jogging in m...   \n",
       "1  Step 1: Identify the properties of the number ...   \n",
       "2  Step 1: Determine Brad's weight based on Carl'...   \n",
       "3  Step 1: Calculate the total amount of money Si...   \n",
       "4  Step 1: Determine the initial number of animal...   \n",
       "\n",
       "                                                 LLR  \\\n",
       "0  [('Step 1: Calculate the duration of jogging i...   \n",
       "1  [('Step 1: Identify the properties of the numb...   \n",
       "2  [(\"Step 1: Determine Brad's weight based on Ca...   \n",
       "3  [('Step 1: Calculate the total amount of money...   \n",
       "4  [('Step 1: Determine the initial number of ani...   \n",
       "\n",
       "                                                 HLP  \n",
       "0  ['Step 1: Calculate the duration of jogging in...  \n",
       "1  ['Step 1: Identify the properties of the numbe...  \n",
       "2  [\"Step 1: Determine Brad's weight based on Car...  \n",
       "3  ['Step 1: Calculate the total amount of money ...  \n",
       "4  ['Step 1: Determine the initial number of anim...  "
      ]
     },
     "execution_count": 17,
     "metadata": {},
     "output_type": "execute_result"
    }
   ],
   "source": [
    "df.describe()\n",
    "\n",
    "# Rename HLR col as HLP\n",
    "df = df.rename(columns={'HLR': 'HLP'})\n",
    "df.head()\n"
   ]
  },
  {
   "cell_type": "code",
   "execution_count": 18,
   "metadata": {},
   "outputs": [],
   "source": [
    "import pandas as pd\n",
    "import torch\n",
    "from transformers import GPT2TokenizerFast\n",
    "import ast\n",
    "\n",
    "def clean_answer(text):\n",
    "    text = text.replace('\\n\\n', ' ')\n",
    "    text = text.replace('. Step', ' ; Step')\n",
    "    text = text.rstrip('. ')\n",
    "    return text\n",
    "\n",
    "new_rows = []\n",
    "for index, row in df.iterrows():\n",
    "    test_q = row['question']\n",
    "    test_a = row['answer']\n",
    "    test_llr = row['LLR']\n",
    "    test_hlr = row['HLP']\n",
    "\n",
    "    test_q_HL = 'Question: ' + test_q + ' High Level Steps: '\n",
    "    test_a_HL = ' ; '.join(ast.literal_eval(test_hlr)) + ' '\n",
    "\n",
    "    test_a_LLR = clean_answer(test_a)\n",
    "\n",
    "    test_full_HL = test_q_HL + test_a_HL\n",
    "    test_full = 'Question: ' + test_q + ' Answer: ' + test_a_LLR\n",
    "\n",
    "    new_rows.append({\"high_level\": test_full_HL, \"low_level\": test_full})\n",
    "\n",
    "\n"
   ]
  },
  {
   "cell_type": "code",
   "execution_count": 19,
   "metadata": {},
   "outputs": [],
   "source": [
    "new_df = pd.DataFrame(new_rows)\n",
    "new_df.head()\n",
    "\n",
    "new_df.to_csv('../data/train_data_raw.csv')"
   ]
  },
  {
   "cell_type": "markdown",
   "metadata": {},
   "source": [
    "# Output transformed dataset to data/train_data.csv"
   ]
  },
  {
   "cell_type": "code",
   "execution_count": null,
   "metadata": {},
   "outputs": [],
   "source": []
  }
 ],
 "metadata": {
  "kernelspec": {
   "display_name": "myenv",
   "language": "python",
   "name": "python3"
  },
  "language_info": {
   "codemirror_mode": {
    "name": "ipython",
    "version": 3
   },
   "file_extension": ".py",
   "mimetype": "text/x-python",
   "name": "python",
   "nbconvert_exporter": "python",
   "pygments_lexer": "ipython3",
   "version": "3.9.6"
  }
 },
 "nbformat": 4,
 "nbformat_minor": 2
}
